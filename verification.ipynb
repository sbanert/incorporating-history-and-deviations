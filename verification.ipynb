{
 "cells": [
  {
   "cell_type": "markdown",
   "id": "2092d9d7-6726-48df-bdc4-4500b003aa42",
   "metadata": {},
   "source": [
    "# Verification of the calculations in Section 7\n",
    "This notebook will verify the calculations in Section 7 of the paper \"Incorporating history and deviations in forward-backward splitting\" by Hamed Sadeghi, Sebastian Banert, and Pontus Giselsson. To carry out the symbolic calculations, we will make use of the SymPy package."
   ]
  },
  {
   "cell_type": "code",
   "execution_count": 1,
   "id": "d26b6835-970e-4e50-af6c-e8bf0ada2ac7",
   "metadata": {},
   "outputs": [],
   "source": [
    "from sympy import *"
   ]
  },
  {
   "cell_type": "markdown",
   "id": "c488b659-17b1-406f-bf22-f52d47a5b713",
   "metadata": {},
   "source": [
    "First, we will define the parameters of Algorithm 1."
   ]
  },
  {
   "cell_type": "code",
   "execution_count": 2,
   "id": "5189fd0f-4cfe-41ce-b2c5-e96d3d7c7843",
   "metadata": {},
   "outputs": [],
   "source": [
    "# Cocoercivity parameter of the operator $C$, see Assumption 1.\n",
    "beta = symbols(\"beta\")\n",
    "\n",
    "# Input parameters from Algorithm 1; \"np1\" denotes index $n+1$, \"nm1\" denotes index $n-1$.\n",
    "gamma_np1, gamma_n, gamma_nm1, lambda_np1, lambda_n, zeta_n, mu_n, mu_np1, beta_bar = \\\n",
    "    symbols(\"gamma_{n+1} gamma_n gamma_{n-1} lambda_{n+1} lambda_n zeta_n mu_n mu_{n+1} \\\\bar{\\\\beta}\")\n",
    "\n",
    "# Dependent variables from step 2 of Algorithm 1.\n",
    "alpha_n = mu_n/(lambda_n + mu_n)\n",
    "alpha_np1 = mu_np1/(lambda_np1 + mu_np1)\n",
    "alpha_n_bar = gamma_n * mu_n / (gamma_nm1 * (lambda_n + mu_n))\n",
    "alpha_np1_bar = gamma_np1 * mu_np1 / (gamma_n * (lambda_np1 + mu_np1))\n",
    "theta_n = (4 - gamma_n * beta_bar) * (lambda_n + mu_n) - 2 * lambda_n ** 2\n",
    "theta_n_hat = 2 * lambda_n + 2 * mu_n - gamma_n * beta_bar * lambda_n ** 2\n",
    "theta_n_bar = lambda_n + mu_n - lambda_n ** 2\n",
    "theta_n_tilde = (lambda_n + mu_n) * gamma_n * beta_bar\n",
    "\n",
    "# Dependent variable from eq. (38).\n",
    "theta_n_prime = (2 - gamma_n * beta_bar) * mu_n + 2 * alpha_n_bar * theta_n_bar"
   ]
  },
  {
   "cell_type": "markdown",
   "id": "7aed129f-2b77-4316-91ad-b76c7e4e5f74",
   "metadata": {},
   "source": [
    "Elements of vector spaces are represented by vectors. First we define a set of eight base vectors, and all other vectors are linear combinations of those base vectors."
   ]
  },
  {
   "cell_type": "code",
   "execution_count": 3,
   "id": "192317e4-e0f0-47c2-a53e-a52c5810d448",
   "metadata": {},
   "outputs": [],
   "source": [
    "# Base vectors.\n",
    "I = eye(8)\n",
    "y_nm1 = I[0, :]\n",
    "z_nm1 = I[1, :]\n",
    "p_nm1 = I[2, :]\n",
    "x_n   = I[3, :]\n",
    "u_n   = I[4, :]\n",
    "v_n   = I[5, :]\n",
    "p_n   = I[6, :]\n",
    "x_star = I[7, :]\n",
    "\n",
    "# Steps 5, 6, and 8 of Algorithm 1 define $y_n$, $z_n$, and $x_{n+1}$ as linear combinations of the base vectors.\n",
    "y_n = x_n + alpha_n * (y_nm1 - x_n) + u_n\n",
    "z_n = x_n + alpha_n * (p_nm1 - x_n) + alpha_n_bar * (z_nm1 - p_nm1) + theta_n_bar * gamma_n * beta_bar / theta_n_hat * u_n + v_n\n",
    "x_np1 = x_n + lambda_n * (p_n - z_n) + alpha_n_bar * lambda_n * (z_nm1 - p_nm1)\n"
   ]
  },
  {
   "cell_type": "markdown",
   "id": "14ae74fd-25ed-4a96-b607-793aff91694e",
   "metadata": {},
   "source": [
    "Inner products and norms (in the metric associated with $M$) are represented by (Grammian) matrices indicating the coefficients for the inner products between each pair of base vectors."
   ]
  },
  {
   "cell_type": "code",
   "execution_count": 4,
   "id": "abb9af7d-fddd-4d58-8b44-784b1d42d7de",
   "metadata": {},
   "outputs": [],
   "source": [
    "def inner(x, y):\n",
    "    return (x.transpose() * y + y.transpose() * x)/2\n",
    "\n",
    "def normsq(x):\n",
    "    return inner(x, x)"
   ]
  },
  {
   "cell_type": "code",
   "execution_count": 5,
   "id": "d39691d6-992d-4830-a217-ed85ec79b513",
   "metadata": {},
   "outputs": [],
   "source": [
    "# These terms are defined in eq. (8).\n",
    "phi_n = inner((z_n - p_n)/gamma_n, p_n - x_star) + beta_bar/4 * normsq(y_n - p_n)\n",
    "phi_nm1 = inner((z_nm1 - p_nm1)/gamma_nm1, p_nm1 - x_star) + beta_bar/4 * normsq(y_nm1 - p_nm1)\n",
    "\n",
    "# The following terms are defined in eq. (3). We will not need an explicit form for $\\ell_{n-1}$, so we just leave it as a symbol.\n",
    "ell_n = theta_n/2 * normsq(p_n - x_n + alpha_n * (x_n - p_nm1) + gamma_n * beta_bar * lambda_n ** 2 / theta_n_hat * u_n - 2 * theta_n_bar / theta_n * v_n) \\\n",
    "    + 2 * mu_n * gamma_n * inner((z_n - p_n)/gamma_n - (z_nm1 - p_nm1)/gamma_nm1, p_n - p_nm1) \\\n",
    "    + mu_n * gamma_n * beta_bar / 2 * normsq(p_n - y_n - (p_nm1 - y_nm1))\n",
    "ell_nm1 = MatrixSymbol(\"ell_{n-1}\", 8, 8)\n",
    "\n",
    "# The following terms are defined in eq. (7).\n",
    "V_np1 = normsq(x_np1 - x_star) + 2 * lambda_np1 * gamma_np1 * alpha_np1 * phi_n + ell_n\n",
    "V_n = normsq(x_n - x_star) + 2 * lambda_n * gamma_n * alpha_n * phi_nm1 + ell_nm1"
   ]
  },
  {
   "cell_type": "markdown",
   "id": "79221d3f-2cdf-4b76-b75c-3269ee36d1a2",
   "metadata": {},
   "source": [
    "The following expression represents the difference of the left-hand side and the right-hand side of the assertion in Theorem 1. Later, we will simplify it to zero in order to show that both sides are equal."
   ]
  },
  {
   "cell_type": "code",
   "execution_count": 6,
   "id": "b458f7e0-be76-4d7b-bf92-5a5e924c53bc",
   "metadata": {},
   "outputs": [],
   "source": [
    "Delta_n = V_np1 - V_n + 2 * gamma_n * (lambda_n - alpha_np1_bar * lambda_np1) * phi_n + ell_nm1 - (lambda_n + mu_n) * (theta_n_tilde/theta_n_hat * normsq(u_n) + theta_n_hat/theta_n * normsq(v_n))"
   ]
  },
  {
   "cell_type": "markdown",
   "id": "df24a2c1-d36d-40c5-ad9b-1e99626c0106",
   "metadata": {},
   "source": [
    "## Proposition 6\n",
    "All identities are verified by simplifying the expression (lhs - rhs) to zero."
   ]
  },
  {
   "cell_type": "code",
   "execution_count": 7,
   "id": "2efaf6e2-2a9d-46bc-a989-36bc09a0ba87",
   "metadata": {},
   "outputs": [
    {
     "data": {
      "text/latex": [
       "$\\displaystyle 0$"
      ],
      "text/plain": [
       "0"
      ]
     },
     "execution_count": 7,
     "metadata": {},
     "output_type": "execute_result"
    }
   ],
   "source": [
    "simplify(theta_n - (2 - gamma_n * beta_bar)  * theta_n_bar - theta_n_hat)"
   ]
  },
  {
   "cell_type": "code",
   "execution_count": 8,
   "id": "2c741a77-a5fc-45c6-991f-20bf797b63ab",
   "metadata": {},
   "outputs": [
    {
     "data": {
      "text/latex": [
       "$\\displaystyle 0$"
      ],
      "text/plain": [
       "0"
      ]
     },
     "execution_count": 8,
     "metadata": {},
     "output_type": "execute_result"
    }
   ],
   "source": [
    "simplify(theta_n - 2 * theta_n_bar - (2 - gamma_n * beta_bar) * (lambda_n + mu_n))"
   ]
  },
  {
   "cell_type": "code",
   "execution_count": 9,
   "id": "288332fd-c165-458f-a58f-0f49388c1679",
   "metadata": {},
   "outputs": [
    {
     "data": {
      "text/latex": [
       "$\\displaystyle 0$"
      ],
      "text/plain": [
       "0"
      ]
     },
     "execution_count": 9,
     "metadata": {},
     "output_type": "execute_result"
    }
   ],
   "source": [
    "simplify(lambda_n ** 2 * theta_n - theta_n_hat * (lambda_n + mu_n) + 2 * theta_n_bar ** 2)"
   ]
  },
  {
   "cell_type": "markdown",
   "id": "8b1ce172-5562-4a51-af45-3a94d6c87c63",
   "metadata": {},
   "source": [
    "## Lemma 2"
   ]
  },
  {
   "cell_type": "code",
   "execution_count": 10,
   "id": "2b8079e9-9d5f-4f60-bd44-281cf67cc632",
   "metadata": {},
   "outputs": [],
   "source": [
    "lemma_2_i = simplify(p_n - (1 - alpha_n) * x_n - alpha_n * p_nm1 + gamma_n * beta_bar * lambda_n ** 2 / theta_n_hat * u_n - 2 * theta_n_bar / theta_n * v_n)"
   ]
  },
  {
   "cell_type": "code",
   "execution_count": 11,
   "id": "1db7c3f5-a401-458c-96ef-6b9e7e2e267c",
   "metadata": {},
   "outputs": [],
   "source": [
    "lemma_2_ii = simplify(p_n - 2 * theta_n_bar / theta_n * z_n + theta_n_tilde / theta_n * y_n - 2 * lambda_n / theta_n * x_n - theta_n_prime / theta_n * p_nm1 + 2 * theta_n_bar * alpha_n_bar / theta_n * z_nm1 - theta_n_tilde * alpha_n / theta_n * y_nm1)"
   ]
  },
  {
   "cell_type": "code",
   "execution_count": 12,
   "id": "017b9d9e-97d7-470e-ad44-6c4a0ed16268",
   "metadata": {},
   "outputs": [],
   "source": [
    "lemma_2_iii = simplify(1/lambda_n * (x_np1 - x_n) + theta_n_tilde / theta_n_hat * u_n + (2 - gamma_n * beta_bar) * (lambda_n + mu_n) / theta_n * v_n)"
   ]
  },
  {
   "cell_type": "code",
   "execution_count": 13,
   "id": "c0a5e4ac-1340-48f9-be14-52c2022c0e9d",
   "metadata": {},
   "outputs": [
    {
     "data": {
      "text/latex": [
       "$\\displaystyle \\left[\\begin{matrix}0 & 0 & 0 & 0 & 0 & 0 & 0 & 0\\end{matrix}\\right]$"
      ],
      "text/plain": [
       "Matrix([[0, 0, 0, 0, 0, 0, 0, 0]])"
      ]
     },
     "execution_count": 13,
     "metadata": {},
     "output_type": "execute_result"
    }
   ],
   "source": [
    "simplify(lemma_2_i - lemma_2_iii)"
   ]
  },
  {
   "cell_type": "code",
   "execution_count": 14,
   "id": "7c0e6783-be38-409c-a9eb-a4862722822f",
   "metadata": {},
   "outputs": [
    {
     "data": {
      "text/latex": [
       "$\\displaystyle \\left[\\begin{matrix}0 & 0 & 0 & 0 & 0 & 0 & 0 & 0\\end{matrix}\\right]$"
      ],
      "text/plain": [
       "Matrix([[0, 0, 0, 0, 0, 0, 0, 0]])"
      ]
     },
     "execution_count": 14,
     "metadata": {},
     "output_type": "execute_result"
    }
   ],
   "source": [
    "simplify(lemma_2_i - lemma_2_ii)"
   ]
  },
  {
   "cell_type": "code",
   "execution_count": 15,
   "id": "593443fb-b7aa-46aa-b538-600ab1aff5c0",
   "metadata": {},
   "outputs": [
    {
     "data": {
      "text/latex": [
       "$\\displaystyle \\left[\\begin{matrix}0 & 0 & 0 & 0 & 0 & 0 & 0 & 0\\end{matrix}\\right]$"
      ],
      "text/plain": [
       "Matrix([[0, 0, 0, 0, 0, 0, 0, 0]])"
      ]
     },
     "execution_count": 15,
     "metadata": {},
     "output_type": "execute_result"
    }
   ],
   "source": [
    "simplify(lemma_2_ii - lemma_2_iii)"
   ]
  },
  {
   "cell_type": "markdown",
   "id": "a209f054-4a58-48ff-839f-5a3eb8624366",
   "metadata": {},
   "source": [
    "## Theorem 1"
   ]
  },
  {
   "cell_type": "code",
   "execution_count": 16,
   "id": "95494e8d-538e-42da-8dbd-144bc6991fde",
   "metadata": {},
   "outputs": [
    {
     "data": {
      "text/latex": [
       "$\\displaystyle \\left[\\begin{matrix}0 & 0 & 0 & 0 & 0 & 0 & 0 & 0\\\\0 & 0 & 0 & 0 & 0 & 0 & 0 & 0\\\\0 & 0 & 0 & 0 & 0 & 0 & 0 & 0\\\\0 & 0 & 0 & 0 & 0 & 0 & 0 & 0\\\\0 & 0 & 0 & 0 & 0 & 0 & 0 & 0\\\\0 & 0 & 0 & 0 & 0 & 0 & 0 & 0\\\\0 & 0 & 0 & 0 & 0 & 0 & 0 & 0\\\\0 & 0 & 0 & 0 & 0 & 0 & 0 & 0\\end{matrix}\\right]$"
      ],
      "text/plain": [
       "Matrix([\n",
       "[0, 0, 0, 0, 0, 0, 0, 0],\n",
       "[0, 0, 0, 0, 0, 0, 0, 0],\n",
       "[0, 0, 0, 0, 0, 0, 0, 0],\n",
       "[0, 0, 0, 0, 0, 0, 0, 0],\n",
       "[0, 0, 0, 0, 0, 0, 0, 0],\n",
       "[0, 0, 0, 0, 0, 0, 0, 0],\n",
       "[0, 0, 0, 0, 0, 0, 0, 0],\n",
       "[0, 0, 0, 0, 0, 0, 0, 0]])"
      ]
     },
     "execution_count": 16,
     "metadata": {},
     "output_type": "execute_result"
    }
   ],
   "source": [
    "simplify(Delta_n)"
   ]
  },
  {
   "cell_type": "code",
   "execution_count": null,
   "id": "8f9f73db-f19e-4efd-a361-688d86d16000",
   "metadata": {},
   "outputs": [],
   "source": []
  },
  {
   "cell_type": "code",
   "execution_count": null,
   "id": "1fdb7150-4ff0-449d-ae97-0c05de20bbb3",
   "metadata": {},
   "outputs": [],
   "source": []
  }
 ],
 "metadata": {
  "kernelspec": {
   "display_name": "Python 3 (ipykernel)",
   "language": "python",
   "name": "python3"
  },
  "language_info": {
   "codemirror_mode": {
    "name": "ipython",
    "version": 3
   },
   "file_extension": ".py",
   "mimetype": "text/x-python",
   "name": "python",
   "nbconvert_exporter": "python",
   "pygments_lexer": "ipython3",
   "version": "3.11.3"
  }
 },
 "nbformat": 4,
 "nbformat_minor": 5
}
